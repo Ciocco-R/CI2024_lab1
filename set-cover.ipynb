{
 "cells": [
  {
   "cell_type": "markdown",
   "metadata": {},
   "source": [
    "Copyright **`(c)`** 2024 Giovanni Squillero `<giovanni.squillero@polito.it>`  \n",
    "[`https://github.com/squillero/computational-intelligence`](https://github.com/squillero/computational-intelligence)  \n",
    "Free for personal or classroom use; see [`LICENSE.md`](https://github.com/squillero/computational-intelligence/blob/master/LICENSE.md) for details.  "
   ]
  },
  {
   "cell_type": "markdown",
   "metadata": {},
   "source": [
    "# Set Cover problem\n",
    "\n",
    "See: https://en.wikipedia.org/wiki/Set_cover_problem"
   ]
  },
  {
   "cell_type": "code",
   "execution_count": 299,
   "metadata": {},
   "outputs": [],
   "source": [
    "from random import random, seed\n",
    "from itertools import product\n",
    "import numpy as np\n",
    "from tqdm.auto import tqdm\n",
    "from icecream import ic\n",
    "from matplotlib import pyplot as plt\n",
    "from itertools import accumulate"
   ]
  },
  {
   "cell_type": "markdown",
   "metadata": {},
   "source": [
    "## Reproducible Initialization\n",
    "\n",
    "If you want to get reproducible results, use `rng` (and restart the kernel); for non-reproducible ones, use `np.random`."
   ]
  },
  {
   "cell_type": "code",
   "execution_count": 300,
   "metadata": {},
   "outputs": [],
   "source": [
    "UNIVERSE_SIZE = 10000\n",
    "NUM_SETS = 1000\n",
    "DENSITY = 0.2\n",
    "MAX_STEPS = 10000\n",
    "rng = np.random.Generator(np.random.PCG64([UNIVERSE_SIZE, NUM_SETS, int(10_000 * DENSITY)]))"
   ]
  },
  {
   "cell_type": "code",
   "execution_count": 301,
   "metadata": {},
   "outputs": [],
   "source": [
    "# DON'T EDIT THESE LINES!\n",
    "\n",
    "SETS = np.random.random((NUM_SETS, UNIVERSE_SIZE)) < DENSITY\n",
    "for s in range(UNIVERSE_SIZE):\n",
    "    if not np.any(SETS[:, s]):\n",
    "        SETS[np.random.randint(NUM_SETS), s] = True\n",
    "COSTS = np.pow(SETS.sum(axis=1), 1.1)"
   ]
  },
  {
   "cell_type": "markdown",
   "metadata": {},
   "source": [
    "## Helper Functions"
   ]
  },
  {
   "cell_type": "code",
   "execution_count": 302,
   "metadata": {},
   "outputs": [],
   "source": [
    "def valid(solution):\n",
    "    \"\"\"Checks wether solution is valid (ie. covers all universe)\"\"\"\n",
    "    return np.all(np.logical_or.reduce(SETS[solution]))\n",
    "\n",
    "\n",
    "def cost(solution):\n",
    "    \"\"\"Returns the cost of a solution (to be minimized)\"\"\"\n",
    "    return COSTS[solution].sum()\n",
    "\n",
    "def fitness(solution: np.ndarray) -> tuple:\n",
    "    selected_sets = SETS[solution]  \n",
    "    covered_items = np.sum(np.any(selected_sets, axis=0))  \n",
    "    return (covered_items, -cost(solution))\n"
   ]
  },
  {
   "cell_type": "markdown",
   "metadata": {},
   "source": [
    "## Have Fun!"
   ]
  },
  {
   "cell_type": "code",
   "execution_count": 303,
   "metadata": {},
   "outputs": [
    {
     "data": {
      "text/plain": [
       "(np.True_, np.float64(4278348.689833233))"
      ]
     },
     "execution_count": 303,
     "metadata": {},
     "output_type": "execute_result"
    }
   ],
   "source": [
    "# A dumb solution of \"all\" sets\n",
    "solution = np.full(NUM_SETS, True)\n",
    "valid(solution), cost(solution)"
   ]
  },
  {
   "cell_type": "code",
   "execution_count": 304,
   "metadata": {},
   "outputs": [
    {
     "data": {
      "text/plain": [
       "(np.True_, np.float64(2138924.5249648895))"
      ]
     },
     "execution_count": 304,
     "metadata": {},
     "output_type": "execute_result"
    }
   ],
   "source": [
    "# A random solution with random 50% of the sets\n",
    "solution = rng.random(NUM_SETS) < .5\n",
    "valid(solution), cost(solution)"
   ]
  },
  {
   "cell_type": "code",
   "execution_count": 305,
   "metadata": {},
   "outputs": [
    {
     "name": "stderr",
     "output_type": "stream",
     "text": [
      "ic| solution: array([ True,  True,  True,  True, False, False,  True,  True, False,\n",
      "                      True,  True,  True, False,  True,  True,  True, False, False,\n",
      "                     False, False,  True, False, False,  True,  True,  True,  True,\n",
      "                      True, False,  True, False,  True, False,  True,  True, False,\n",
      "                      True, False, False, False,  True, False,  True, False, False,\n",
      "                     False,  True, False, False,  True,  True, False, False,  True,\n",
      "                      True, False,  True,  True, False, False, False, False,  True,\n",
      "                     False,  True, False, False, False, False,  True, False, False,\n",
      "                      True, False, False,  True,  True,  True, False,  True,  True,\n",
      "                     False, False,  True,  True, False,  True,  True,  True, False,\n",
      "                      True, False,  True,  True,  True, False, False, False, False,\n",
      "                      True,  True, False, False, False, False,  True,  True, False,\n",
      "                     False, False, False,  True, False,  True, False,  True,  True,\n",
      "                     False,  True,  True, False, False, False, False,  True,  True,\n",
      "                      True,  True, False,  True,  True,  True,  True,  True, False,\n",
      "                      True,  True,  True, False,  True, False, False, False,  True,\n",
      "                     False,  True,  True, False,  True,  True,  True,  True, False,\n",
      "                     False, False,  True,  True, False,  True, False,  True,  True,\n",
      "                      True, False, False, False,  True, False,  True,  True, False,\n",
      "                     False,  True,  True,  True,  True, False,  True,  True,  True,\n",
      "                     False, False,  True,  True,  True,  True, False, False,  True,\n",
      "                      True,  True,  True, False,  True,  True,  True,  True,  True,\n",
      "                     False,  True,  True, False, False, False, False, False, False,\n",
      "                     False, False, False, False,  True, False, False, False,  True,\n",
      "                      True, False, False,  True,  True, False,  True, False,  True,\n",
      "                     False,  True, False,  True, False, False,  True,  True,  True,\n",
      "                      True,  True,  True,  True,  True,  True,  True,  True,  True,\n",
      "                     False,  True,  True,  True, False,  True,  True,  True, False,\n",
      "                     False, False,  True,  True,  True, False, False, False,  True,\n",
      "                      True, False,  True, False,  True,  True, False, False, False,\n",
      "                      True, False, False,  True, False, False,  True,  True, False,\n",
      "                      True,  True,  True, False, False,  True, False,  True,  True,\n",
      "                     False,  True, False, False,  True,  True, False,  True, False,\n",
      "                     False,  True,  True, False,  True, False, False, False, False,\n",
      "                     False,  True,  True, False, False, False, False,  True,  True,\n",
      "                      True, False, False,  True,  True,  True, False, False,  True,\n",
      "                      True, False,  True,  True, False,  True, False, False, False,\n",
      "                      True,  True,  True,  True, False,  True,  True,  True, False,\n",
      "                      True,  True, False, False,  True,  True, False, False,  True,\n",
      "                     False, False,  True,  True, False, False, False,  True, False,\n",
      "                     False, False,  True, False, False,  True, False,  True,  True,\n",
      "                     False,  True,  True, False,  True, False,  True,  True, False,\n",
      "                      True,  True, False, False, False, False,  True, False, False,\n",
      "                     False, False, False, False,  True,  True, False, False, False,\n",
      "                      True, False,  True, False, False, False,  True, False,  True,\n",
      "                     False,  True,  True, False, False, False,  True,  True, False,\n",
      "                     False, False,  True, False,  True, False, False,  True, False,\n",
      "                     False,  True, False, False, False,  True,  True, False, False,\n",
      "                      True,  True, False, False, False, False,  True, False,  True,\n",
      "                      True,  True, False, False, False, False, False, False,  True,\n",
      "                     False, False,  True, False,  True,  True,  True, False,  True,\n",
      "                      True,  True,  True,  True,  True, False,  True, False, False,\n",
      "                      True, False, False,  True,  True, False,  True, False,  True,\n",
      "                     False, False,  True, False, False, False, False,  True, False,\n",
      "                      True,  True,  True,  True,  True,  True, False,  True, False,\n",
      "                     False,  True, False,  True,  True,  True, False, False,  True,\n",
      "                      True,  True,  True, False, False, False,  True,  True,  True,\n",
      "                      True, False, False,  True, False,  True, False,  True, False,\n",
      "                     False, False, False, False, False, False, False,  True,  True,\n",
      "                     False, False,  True, False, False, False, False, False,  True,\n",
      "                     False,  True, False, False,  True, False,  True, False,  True,\n",
      "                     False, False,  True,  True,  True, False, False,  True, False,\n",
      "                      True, False, False,  True, False,  True, False, False, False,\n",
      "                     False, False, False, False, False,  True,  True,  True, False,\n",
      "                     False, False, False,  True, False, False, False,  True, False,\n",
      "                     False,  True, False,  True, False, False,  True, False, False,\n",
      "                     False,  True, False,  True, False,  True, False,  True,  True,\n",
      "                     False,  True, False,  True, False,  True,  True, False, False,\n",
      "                     False,  True,  True,  True,  True,  True,  True, False, False,\n",
      "                      True,  True,  True,  True,  True, False, False,  True,  True,\n",
      "                      True,  True,  True,  True, False, False, False, False, False,\n",
      "                      True,  True,  True,  True,  True,  True,  True,  True,  True,\n",
      "                      True,  True, False, False, False,  True,  True, False,  True,\n",
      "                     False, False, False,  True,  True,  True, False, False, False,\n",
      "                     False,  True,  True, False, False,  True,  True, False, False,\n",
      "                     False, False, False,  True,  True, False,  True, False,  True,\n",
      "                     False, False, False, False, False,  True,  True,  True, False,\n",
      "                      True, False,  True, False, False,  True,  True, False,  True,\n",
      "                      True,  True,  True, False,  True, False,  True, False,  True,\n",
      "                      True,  True, False,  True, False,  True, False,  True,  True,\n",
      "                      True,  True, False,  True,  True, False,  True,  True, False,\n",
      "                     False,  True,  True, False, False, False,  True, False, False,\n",
      "                     False, False, False, False, False, False,  True,  True,  True,\n",
      "                      True, False, False, False, False,  True, False, False, False,\n",
      "                      True, False, False, False,  True,  True, False,  True,  True,\n",
      "                      True,  True,  True, False, False,  True, False,  True,  True,\n",
      "                      True, False, False, False,  True,  True, False,  True,  True,\n",
      "                      True,  True, False, False, False,  True,  True, False, False,\n",
      "                      True,  True, False,  True, False,  True,  True,  True,  True,\n",
      "                      True,  True,  True,  True,  True, False, False,  True, False,\n",
      "                      True,  True, False,  True,  True, False, False,  True, False,\n",
      "                     False,  True,  True,  True, False, False, False, False,  True,\n",
      "                      True,  True, False,  True, False, False, False, False, False,\n",
      "                      True, False,  True,  True,  True,  True,  True, False,  True,\n",
      "                      True,  True,  True, False, False, False, False, False, False,\n",
      "                      True, False, False, False, False,  True, False, False, False,\n",
      "                     False,  True,  True, False,  True, False,  True, False,  True,\n",
      "                     False, False, False, False, False, False, False, False, False,\n",
      "                      True,  True,  True,  True,  True,  True, False,  True,  True,\n",
      "                      True, False, False, False,  True, False, False,  True, False,\n",
      "                     False,  True,  True, False, False, False,  True,  True,  True,\n",
      "                      True, False, False,  True,  True, False,  True,  True, False,\n",
      "                      True,  True,  True,  True,  True,  True, False, False, False,\n",
      "                     False,  True,  True, False, False, False, False,  True,  True,\n",
      "                     False, False,  True, False,  True, False,  True,  True,  True,\n",
      "                      True, False,  True,  True,  True,  True,  True, False,  True,\n",
      "                      True,  True, False,  True, False, False,  True, False, False,\n",
      "                      True, False, False,  True, False, False,  True, False, False,\n",
      "                      True,  True,  True, False,  True,  True, False, False,  True,\n",
      "                     False,  True, False, False, False, False, False,  True,  True,\n",
      "                     False,  True, False, False, False,  True,  True,  True,  True,\n",
      "                     False])\n",
      "ic| valid(solution): np.True_\n",
      "ic| cost(solution): np.float64(2138924.5249648895)\n"
     ]
    },
    {
     "data": {
      "text/plain": [
       "np.float64(2138924.5249648895)"
      ]
     },
     "execution_count": 305,
     "metadata": {},
     "output_type": "execute_result"
    }
   ],
   "source": [
    "\n",
    "ic(solution)\n",
    "ic(valid(solution))\n",
    "ic(cost(solution))"
   ]
  },
  {
   "cell_type": "markdown",
   "metadata": {},
   "source": [
    "## Hill Climbing"
   ]
  },
  {
   "cell_type": "code",
   "execution_count": 306,
   "metadata": {},
   "outputs": [
    {
     "name": "stderr",
     "output_type": "stream",
     "text": [
      "ic| fitness(solution): (np.int64(10000), np.float64(-2114778.645654136))\n"
     ]
    },
    {
     "data": {
      "application/vnd.jupyter.widget-view+json": {
       "model_id": "f7f977a941774b88b9e9a33751d29db9",
       "version_major": 2,
       "version_minor": 0
      },
      "text/plain": [
       "  0%|          | 0/10000 [00:00<?, ?it/s]"
      ]
     },
     "metadata": {},
     "output_type": "display_data"
    },
    {
     "name": "stderr",
     "output_type": "stream",
     "text": [
      "ic| valid(solution): np.True_\n",
      "    cost(solution): np.float64(126611.66237861232)\n",
      "    fitness(solution): (np.int64(10000), np.float64(-126611.66237861232))\n"
     ]
    },
    {
     "name": "stdout",
     "output_type": "stream",
     "text": [
      "No improvement for 1000 steps. Stopping.\n"
     ]
    },
    {
     "data": {
      "image/png": "[encoded data removed]",
      "text/plain": [
       "<Figure size 1400x800 with 1 Axes>"
      ]
     },
     "metadata": {},
     "output_type": "display_data"
    }
   ],
   "source": [
    "#indizio: usa tupla con number of covered items e cost invece che valid e cost\n",
    "\n",
    "    #while index is None or np.random.random() < 0.4:\n",
    "    #    index = np.random.randint(0, NUM_SETS)\n",
    "    #    new_solution[index] = not new_solution[index]  \n",
    "    #return new_solution\n",
    "\n",
    "def single_tweak(solution: np.ndarray)-> np.ndarray:\n",
    "    new_solution = solution.copy()\n",
    "    i=rng.integers(0,NUM_SETS)\n",
    "    new_solution[i]=not new_solution[i]\n",
    "    return new_solution\n",
    "\n",
    "def multiple_tweak(solution):\n",
    "    new_solution = solution.copy()\n",
    "    index = None\n",
    "    while index is None or np.random.random() < 0.4:\n",
    "        index = np.random.randint(0, NUM_SETS)\n",
    "        new_solution[index] = not new_solution[index]\n",
    "    return new_solution\n",
    "\n",
    "# ic(fitness(solution))\n",
    "#solution = np.full(NUM_SETS, True)\n",
    "solution = rng.random(NUM_SETS) < 0.5\n",
    "solution_fitness = fitness(solution)\n",
    "history = [float(solution_fitness[1])]\n",
    "ic(fitness(solution))\n",
    "#tweak=single_tweak\n",
    "tweak=multiple_tweak\n",
    "\n",
    "N = 1000\n",
    "n_improvement_steps = 0\n",
    "\n",
    "for n in tqdm(range(MAX_STEPS)):\n",
    "    new_solution = tweak(solution)\n",
    "    f=fitness(new_solution)\n",
    "    \n",
    "    history.append(float(f[1]))\n",
    "    if f > solution_fitness:\n",
    "        solution = new_solution  \n",
    "        solution_fitness=fitness(solution)\n",
    "        n_improvement_steps = 0\n",
    "    else :\n",
    "        n_improvement_steps += 1\n",
    "\n",
    "    #history.append(fitness(solution))\n",
    "\n",
    "    if n_improvement_steps >= N:\n",
    "        print(\"No improvement for\", N, \"steps. Stopping.\")\n",
    "        break\n",
    "\n",
    "#ic(solution)\n",
    "ic(valid(solution), cost(solution), fitness(solution))\n",
    "\n",
    "plt.figure(figsize=(14, 8))\n",
    "plt.plot(\n",
    "    range(len(history)),\n",
    "    list(accumulate(history, max)),\n",
    "    color=\"red\",\n",
    ")\n",
    "_ = plt.scatter(range(len(history)), history, marker=\".\")\n"
   ]
  }
 ],
 "metadata": {
  "kernelspec": {
   "display_name": "CI2024",
   "language": "python",
   "name": "python3"
  },
  "language_info": {
   "codemirror_mode": {
    "name": "ipython",
    "version": 3
   },
   "file_extension": ".py",
   "mimetype": "text/x-python",
   "name": "python",
   "nbconvert_exporter": "python",
   "pygments_lexer": "ipython3",
   "version": "3.12.7"
  }
 },
 "nbformat": 4,
 "nbformat_minor": 4
}
